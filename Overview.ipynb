{
 "cells": [
  {
   "cell_type": "markdown",
   "metadata": {},
   "source": [
    "# Überblich von NN, GBD und KNN"
   ]
  },
  {
   "cell_type": "markdown",
   "metadata": {},
   "source": [
    "Im Folgenden wird ein Überblick über die einzelnen Algorithmen gegeben. Die einzelnen Optimierungsalgorithmen (speziell für GBD und NN) konnten hier nicht erneut ausgeführt werden, da sie sehr rechenintensiv sind. Sie wurde getrennt von hier auf einer dafür optimierten Azure VM ausgeführt. Die Skripte dazu können gefunden werden unter: !!!!!!!!!!!!!!!!!"
   ]
  },
  {
   "cell_type": "markdown",
   "metadata": {
    "collapsed": true
   },
   "source": [
    "## Imports:"
   ]
  },
  {
   "cell_type": "code",
   "execution_count": null,
   "metadata": {
    "collapsed": true
   },
   "outputs": [],
   "source": []
  },
  {
   "cell_type": "code",
   "execution_count": 77,
   "metadata": {
    "scrolled": false
   },
   "outputs": [],
   "source": [
    "import numpy as np\n",
    "import pandas as pd\n",
    "import matplotlib.pyplot as plt\n",
    "\n",
    "from sklearn.inspection import permutation_importance\n",
    "from sklearn.preprocessing import StandardScaler\n",
    "from sklearn.ensemble import GradientBoostingClassifier\n",
    "from sklearn import metrics\n",
    "from sklearn.metrics import confusion_matrix\n",
    "from sklearn.metrics import classification_report\n",
    "from sklearn.model_selection import train_test_split\n",
    "from numpy import array\n",
    "\n",
    "from keras.models import Sequential\n",
    "from keras.layers import Dense\n",
    "from keras.utils import to_categorical\n",
    "import shap\n",
    "\n",
    "from sklearn.neighbors import KNeighborsClassifier\n",
    "\n",
    "import warnings\n",
    "# block all warning\n",
    "warnings.filterwarnings('ignore')"
   ]
  },
  {
   "cell_type": "markdown",
   "metadata": {},
   "source": [
    "## Datenaufbereitung"
   ]
  },
  {
   "cell_type": "code",
   "execution_count": 78,
   "metadata": {},
   "outputs": [],
   "source": [
    "data = pd.read_csv(\"data_prepared_and_ready_numeric_2.csv\", sep=\";\")\n",
    "dummy_vars = data[[\"population_density\", \"no_rooms_range\", \"newly_const\", \"balcony\", \"has_kitchen\", \"cellar\", \"lift\", \"garden\", \"category_rent\"  ]]\n",
    "numerical_vars = data.drop([\"population_density\", \"no_rooms_range\", \"newly_const\", \"balcony\", \"has_kitchen\", \"cellar\", \"lift\", \"garden\", \"category_rent\"  ], axis=1)\n",
    "#build dummies for categorial vars\n",
    "categorial_list = [\"population_density\", \"no_rooms_range\"]\n",
    "for var in categorial_list:\n",
    "    new_dummies = pd.get_dummies(dummy_vars[var],prefix=var)\n",
    "    dummy_vars = dummy_vars.join(pd.DataFrame(new_dummies), how='outer')\n",
    "    del dummy_vars[var]\n",
    "\n",
    "scale = StandardScaler()  \n",
    "cols = numerical_vars.columns\n",
    "numerical_vars = scale.fit_transform(numerical_vars)\n",
    "numerical_vars = pd.DataFrame(data=numerical_vars, columns=cols)\n",
    "numerical_vars.reset_index(drop=True, inplace=True)\n",
    "dummy_vars.reset_index(drop=True, inplace=True)\n",
    "#merge both types of variables\n",
    "export_data = dummy_vars.join(numerical_vars, how='outer')"
   ]
  },
  {
   "cell_type": "markdown",
   "metadata": {
    "collapsed": true
   },
   "source": [
    "Die Daten werden in eine 80/20 Split aufgeteilt. 80% Training und 20% Validation"
   ]
  },
  {
   "cell_type": "code",
   "execution_count": 79,
   "metadata": {
    "collapsed": true
   },
   "outputs": [],
   "source": [
    "# Splitting Data into dependent (Y) and independent (X) variables.\n",
    "Y = export_data[[\"category_rent\"]]\n",
    "X = export_data.drop([\"category_rent\"], axis=1)\n",
    "\n",
    "# Splitting Data into Testing and Training Data.\n",
    "x_train, x_test, y_train, y_test = train_test_split(X, Y, test_size=0.2, random_state=32)\n"
   ]
  },
  {
   "cell_type": "markdown",
   "metadata": {
    "collapsed": true
   },
   "source": [
    "## Gradient Boosted Decision Tree (GBD)"
   ]
  },
  {
   "cell_type": "markdown",
   "metadata": {},
   "source": [
    "Im Folgenden werden die Einstellungen für den GBD eingestellt. Hier wird jetzt nur der optimale GBD ausgeführt. Das Skript für die Optimierung, was im Grunde nur noch die jeweiligen Einstellungen nach den Rauten mit einbezieht, kann im Anhang gefunden werden."
   ]
  },
  {
   "cell_type": "code",
   "execution_count": 80,
   "metadata": {
    "collapsed": true
   },
   "outputs": [],
   "source": [
    "\n",
    "'''\n",
    "Optimize Gradient Boosted Decision Tree Algorithm for the prediction.\n",
    "'''\n",
    "\n",
    "\"\"\"\n",
    "Range of values to be used for each Setting of the gradient-boosting-algorithm.\n",
    "In this instance we have already tested for what the best performing algorithm is, thefore we only implement this ons\n",
    "The comments after each setting show the other values that the algorithm was trained on\"\"\"\n",
    "rate_learning_list = [0.1] #, 0.25, 0.5\n",
    "max_depth_list = [6] #4, 5, 6, 7, 8\n",
    "n_estimators_list = [1] # 20, 100, \n",
    "max_features_list = [13] # 3, 7, \n",
    "\n",
    "# A list to save all the results and one to count the number of models.\n",
    "count_model = 0\n",
    "all_results = {}\n",
    "highestAccuracy = {\"accuracy\": 0, \"algorith\": \"\"}"
   ]
  },
  {
   "cell_type": "markdown",
   "metadata": {},
   "source": [
    "Jetzt wird das Modell aufgebaut. "
   ]
  },
  {
   "cell_type": "code",
   "execution_count": 81,
   "metadata": {},
   "outputs": [],
   "source": [
    "\n",
    "# Looping through all values for each setting and saving the results.\n",
    "for learning_rate in rate_learning_list:\n",
    "    for max_depth in max_depth_list:\n",
    "        for max_features in max_features_list:\n",
    "            for n_estimators in n_estimators_list:\n",
    "                # Save characteristics (settings) of model.\n",
    "                all_results[count_model] = {\"name\":count_model, \"learning_rate\":learning_rate, \"max_depth\":max_depth, \"max_features\":max_features, \"n_estimators\":n_estimators}\n",
    "                # Define characteristics (settings) of model.\n",
    "                all_results[count_model][\"gb_clf\"] = GradientBoostingClassifier(n_estimators=n_estimators, learning_rate=learning_rate, max_features=max_features, max_depth=max_depth, random_state=32)\n",
    "                # Build model with traing data.\n",
    "                all_results[count_model][\"gb_clf\"].fit(x_train,y_train.values.ravel())\n",
    "                # Test model on testing (validation) Dataset and save results.\n",
    "                all_results[count_model][\"accuracy_training\"] = all_results[count_model][\"gb_clf\"].score(x_train, y_train)\n",
    "                all_results[count_model][\"accuracy_validation\"] = all_results[count_model][\"gb_clf\"].score(x_test, y_test)\n",
    "                # Check if model is the best for further investigation.\n",
    "                if all_results[count_model][\"accuracy_validation\"] > highestAccuracy[\"accuracy\"]:\n",
    "                    highestAccuracy[\"accuracy\"] = all_results[count_model][\"accuracy_validation\"]\n",
    "                    highestAccuracy[\"algorith\"] = all_results[count_model]\n",
    "                count_model += 1"
   ]
  },
  {
   "cell_type": "markdown",
   "metadata": {},
   "source": [
    "Jetzt überprüfen wir die Ergebnisse von unserem Modell. Hier nochmal die Einstellungen:"
   ]
  },
  {
   "cell_type": "code",
   "execution_count": 82,
   "metadata": {},
   "outputs": [
    {
     "name": "stdout",
     "output_type": "stream",
     "text": [
      "The model has the following specifications:\n",
      "learning_rate = 0.1, max_depth = 6, max_features = 13, n_estimators = 1\n"
     ]
    }
   ],
   "source": [
    "'''\n",
    "Check performance and feature importance of optimal Boosted Gradient Decsion Tree Model.\n",
    "'''\n",
    "\n",
    "# Show the information of the best model\n",
    "print(\"The model has the following specifications:\")\n",
    "print(str(\"learning_rate = \" + str(highestAccuracy[\"algorith\"][\"learning_rate\"]) + \", max_depth = \" + str(highestAccuracy[\"algorith\"][\"max_depth\"]) + \", max_features = \" + str(highestAccuracy[\"algorith\"][\"max_features\"]) + \", n_estimators = \" + str(highestAccuracy[\"algorith\"][\"n_estimators\"])))"
   ]
  },
  {
   "cell_type": "markdown",
   "metadata": {},
   "source": [
    "Die Ergebnisste anhang der Genauigkeit (Accuracy)"
   ]
  },
  {
   "cell_type": "code",
   "execution_count": 83,
   "metadata": {},
   "outputs": [
    {
     "name": "stdout",
     "output_type": "stream",
     "text": [
      "Accuracy (training) = 0.3025199580007\n",
      "Accuracy (validation) = 0.30672310922969237\n"
     ]
    }
   ],
   "source": [
    "print(str(\"Accuracy (training) = \" + str(highestAccuracy[\"algorith\"][\"accuracy_training\"])))\n",
    "print(\"Accuracy (validation) = \" + str(highestAccuracy[\"algorith\"][\"accuracy_validation\"]))"
   ]
  },
  {
   "cell_type": "markdown",
   "metadata": {},
   "source": [
    "Jetz lassen wir und die Confussion Matrix anzeigen. "
   ]
  },
  {
   "cell_type": "code",
   "execution_count": 84,
   "metadata": {},
   "outputs": [
    {
     "name": "stdout",
     "output_type": "stream",
     "text": [
      "Confusion Matrix:\n",
      "[[   0 2929    0    0    0    0    0    0]\n",
      " [   0 9197    0    0    0    0    0    0]\n",
      " [   0 5761    0    0    0    0    0    0]\n",
      " [   0 4016    0    0    0    0    0    0]\n",
      " [   0 2798    0    0    0    0    0    0]\n",
      " [   0 1733    0    0    0    0    0    0]\n",
      " [   0 1029    0    0    0    0    5    0]\n",
      " [   0 2533    0    0    0    0    0    0]]\n"
     ]
    }
   ],
   "source": [
    "# Show confusion matrix and classification report of model.\n",
    "prediction = highestAccuracy[\"algorith\"][\"gb_clf\"].predict(x_test)\n",
    "print(\"Confusion Matrix:\")\n",
    "print(str(confusion_matrix(y_test, prediction)))"
   ]
  },
  {
   "cell_type": "markdown",
   "metadata": {},
   "source": [
    "Hier noch der Classifikation Report mit gängigen Kennzahlen"
   ]
  },
  {
   "cell_type": "code",
   "execution_count": 85,
   "metadata": {},
   "outputs": [
    {
     "name": "stdout",
     "output_type": "stream",
     "text": [
      "Classification Report\n",
      "              precision    recall  f1-score   support\n",
      "\n",
      "           1       0.00      0.00      0.00      2929\n",
      "           2       0.31      1.00      0.47      9197\n",
      "           3       0.00      0.00      0.00      5761\n",
      "           4       0.00      0.00      0.00      4016\n",
      "           5       0.00      0.00      0.00      2798\n",
      "           6       0.00      0.00      0.00      1733\n",
      "           7       1.00      0.00      0.01      1034\n",
      "           8       0.00      0.00      0.00      2533\n",
      "\n",
      "    accuracy                           0.31     30001\n",
      "   macro avg       0.16      0.13      0.06     30001\n",
      "weighted avg       0.13      0.31      0.14     30001\n",
      "\n"
     ]
    }
   ],
   "source": [
    "print(\"Classification Report\")\n",
    "print(str(classification_report(y_test, prediction)))"
   ]
  },
  {
   "cell_type": "markdown",
   "metadata": {},
   "source": [
    "## Variablen Einfluss"
   ]
  },
  {
   "cell_type": "markdown",
   "metadata": {},
   "source": [
    "Jetzt überprüfen wir den Einfluss der einzelnen Variablen in unserem GBD-Algorithmus. "
   ]
  },
  {
   "cell_type": "code",
   "execution_count": 86,
   "metadata": {},
   "outputs": [],
   "source": [
    "# Check feature importance.\n",
    "\n",
    "# Check feature importance of best model.\n",
    "feature_importance = highestAccuracy[\"algorith\"][\"gb_clf\"].feature_importances_\n",
    "sorted_idx = np.argsort(feature_importance)\n"
   ]
  },
  {
   "cell_type": "markdown",
   "metadata": {},
   "source": [
    "Jetzt überprüfen wir wie groß der Einfluss von den demographischen und ökonomische Kennzahlen in %"
   ]
  },
  {
   "cell_type": "code",
   "execution_count": 87,
   "metadata": {},
   "outputs": [
    {
     "name": "stdout",
     "output_type": "stream",
     "text": [
      "0.05131598478797124\n"
     ]
    }
   ],
   "source": [
    "# Check the cumulated feature importance of demographic Data.\n",
    "list_demographisch = [\"Bevoelkerung_m\",\"Bevoelkerung_w\",\"LON\",\"LAT\",\"Siedlungsdichte_Schluessel\",\"Arbeitslosenquote\",\"Arbeitslose\",\"AvgAge_total\",\"AvgAge_female\",\"AvgAge_male\",\"BIP\",\"BIP_pro_Einwohner\",\"BIP_pro_Erwerbstaetige\",\"Einkommen_proKopf\",\"Einkommen_total\",\"Arbeitslosenquote_bl\",\"AvgAge_male_bl\",\"BIP_pro_Einwohner_bl\",\"newlyConst\",\"balcony\",\"hasKitchen\",\"cellar\",\"lift\",\"garden\",\"Siedlungsdichte_Name\"]\n",
    "counter = 0\n",
    "for i, n in enumerate(np.array(export_data.columns)[sorted_idx]):\n",
    "    if n in list_demographisch:\n",
    "        counter += feature_importance[sorted_idx][i]\n",
    "print(str(counter))"
   ]
  },
  {
   "cell_type": "markdown",
   "metadata": {
    "collapsed": true
   },
   "source": [
    "Als letztes noch der Variablen Einfluss als Diagramm"
   ]
  },
  {
   "cell_type": "code",
   "execution_count": 88,
   "metadata": {
    "scrolled": false
   },
   "outputs": [
    {
     "data": {
      "image/png": "[encoded data removed]",
      "text/plain": [
       "<matplotlib.figure.Figure at 0x1c847273710>"
      ]
     },
     "metadata": {},
     "output_type": "display_data"
    }
   ],
   "source": [
    "# Build plot to show feature importance.\n",
    "# Source of Code: https://scikit-learn.org/stable/auto_examples/ensemble/plot_gradient_boosting_regression.html\n",
    "pos = np.arange(sorted_idx.shape[0]) + .5\n",
    "fig = plt.figure(figsize=(12, 6))\n",
    "plt.subplot(1, 2, 1)\n",
    "plt.barh(pos, feature_importance[sorted_idx], align='center')\n",
    "plt.yticks(pos, np.array(export_data.columns)[sorted_idx])\n",
    "plt.title('Feature Importance (MDI)')\n",
    "result = permutation_importance(highestAccuracy[\"algorith\"][\"gb_clf\"], x_test, y_test, n_repeats=5, random_state=42, n_jobs=2)\n",
    "sorted_idx = result.importances_mean.argsort()\n",
    "plt.subplot(1, 2, 2)\n",
    "plt.boxplot(result.importances[sorted_idx].T,vert=False, labels=np.array(export_data.columns)[sorted_idx])\n",
    "plt.title(\"Importance (test set)\")\n",
    "fig.tight_layout()\n",
    "plt.show()"
   ]
  },
  {
   "cell_type": "markdown",
   "metadata": {},
   "source": [
    "## NN"
   ]
  },
  {
   "cell_type": "markdown",
   "metadata": {},
   "source": [
    "Als erstes teilen wir den Datensatz wieder in Training und Testing auf"
   ]
  },
  {
   "cell_type": "code",
   "execution_count": 91,
   "metadata": {
    "collapsed": true
   },
   "outputs": [],
   "source": [
    "Y = export_data[[\"category_rent\"]]\n",
    "X = export_data.drop([\"category_rent\"], axis=1)\n",
    "Y_encoded = to_categorical(Y)\n",
    "x_train, x_test, y_train, y_test =    train_test_split(X, Y_encoded, test_size=0.2, random_state=32)"
   ]
  },
  {
   "cell_type": "markdown",
   "metadata": {},
   "source": [
    "Jetzt bauen wir den NN-Algorithmus mit den optimierten Einstellungen auf. Die Optimierung kann im Anhang gefunden werden. Sie kann aus Performance gründen nur auf einern dafür optimierten Cloud umgebung berechnet werden.\n",
    "Hier die Genauigkeit des Modells (Accuracy)"
   ]
  },
  {
   "cell_type": "code",
   "execution_count": 93,
   "metadata": {},
   "outputs": [
    {
     "name": "stdout",
     "output_type": "stream",
     "text": [
      "30001/30001 [==============================] - 2s 51us/step\n",
      "Accuracy:  0.5381487011909485\n"
     ]
    }
   ],
   "source": [
    "model = Sequential()\n",
    "model.add(Dense(30, input_dim=30, activation='sigmoid'))\n",
    "model.add(Dense(256, activation='sigmoid'))\n",
    "model.add(Dense(256, activation='sigmoid'))\n",
    "model.add(Dense(256, activation='sigmoid'))\n",
    "model.add(Dense(9, activation='softmax'))\n",
    "model.compile(loss='categorical_crossentropy', optimizer='nadam', metrics=['accuracy'])\n",
    "\n",
    "hist = model.fit(x_train, y_train, batch_size=128, epochs=50, verbose=0,validation_data=(x_test, y_test))\n",
    "scores = model.evaluate(x_test, y_test, verbose=1)\n",
    "print(\"Accuracy: \", scores[1])"
   ]
  },
  {
   "cell_type": "markdown",
   "metadata": {},
   "source": [
    "Im folgenden prüfen wir ob das Modell überschätzt (overfitting). "
   ]
  },
  {
   "cell_type": "code",
   "execution_count": 94,
   "metadata": {},
   "outputs": [
    {
     "data": {
      "image/png": "[encoded data removed]",
      "text/plain": [
       "<matplotlib.figure.Figure at 0x1c846d0c4a8>"
      ]
     },
     "metadata": {},
     "output_type": "display_data"
    }
   ],
   "source": [
    "#performance benchmarks\n",
    "history = hist.history\n",
    "accuracy = history[\"accuracy\"]\n",
    "loss = history[\"loss\"]\n",
    "accuracy_val = history[\"val_accuracy\"]\n",
    "loss_val = history[\"val_loss\"]\n",
    "x= list(range(1,51,1))\n",
    "fig = plt.figure()\n",
    "\n",
    "plt.subplot(2, 2, 1)\n",
    "plt.title(\"Loss\")\n",
    "plt.plot(x, loss, color='blue', label='training')\n",
    "plt.plot(x, loss_val, color='red', label='validation')\n",
    "plt.xlabel(\"epochs\")\n",
    "plt.xticks([10,20,30,40,50])\n",
    "plt.grid()\n",
    "\n",
    "plt.subplot(2, 2, 2)\n",
    "plt.title(\"Accuracy\")\n",
    "plt.plot(x, accuracy, color='blue', label='training')\n",
    "plt.plot(x, accuracy_val, color='red', label='validation')\n",
    "\n",
    "plt.xlabel(\"epochs\")\n",
    "plt.grid()\n",
    "plt.xticks([10,20,30,40,50])\n",
    "plt.legend(bbox_to_anchor=(1.04,1), loc=\"upper left\")\n",
    "\n",
    "plt.show()"
   ]
  },
  {
   "cell_type": "markdown",
   "metadata": {},
   "source": [
    "## KNN"
   ]
  },
  {
   "cell_type": "markdown",
   "metadata": {},
   "source": [
    "Die Daten werden in eine 80/20 Split aufgeteilt. 80% Training und 20% Validation. Wieder mit dem gleichen Seed, damit die Aufteilung über alle Modelle hinweg gleich ist. "
   ]
  },
  {
   "cell_type": "code",
   "execution_count": 95,
   "metadata": {
    "collapsed": true
   },
   "outputs": [],
   "source": [
    "Y = export_data[[\"category_rent\"]]\n",
    "X = export_data.drop([\"category_rent\"], axis=1)\n",
    "x_train, x_test, y_train, y_test =    train_test_split(X, Y, test_size= .2, random_state=32)"
   ]
  },
  {
   "cell_type": "markdown",
   "metadata": {},
   "source": [
    "Die Optimierung von k - die im Anhang gefunden werden kann - hat folgenden Ergebnisse ergeben: "
   ]
  },
  {
   "cell_type": "markdown",
   "metadata": {},
   "source": [
    "![title](Optimierung.png)"
   ]
  },
  {
   "cell_type": "markdown",
   "metadata": {},
   "source": [
    "Jetzt betrachten wir nur das Ergebnis des optimalen Modells:"
   ]
  },
  {
   "cell_type": "code",
   "execution_count": 97,
   "metadata": {},
   "outputs": [
    {
     "name": "stdout",
     "output_type": "stream",
     "text": [
      "Accuracy: 0.5324155861471285\n"
     ]
    }
   ],
   "source": [
    "clf1=KNeighborsClassifier(n_neighbors = 11)\n",
    "\n",
    "#Train the model using the training sets y_pred=clf.predict(X_test)\n",
    "clf1.fit(x_train,y_train.values.ravel())\n",
    "\n",
    "y_pred1=clf1.predict(x_test)\n",
    "\n",
    "print(\"Accuracy:\",metrics.accuracy_score(y_test, y_pred1))"
   ]
  }
 ],
 "metadata": {
  "kernelspec": {
   "display_name": "Python 3",
   "language": "python",
   "name": "python3"
  },
  "language_info": {
   "codemirror_mode": {
    "name": "ipython",
    "version": 3
   },
   "file_extension": ".py",
   "mimetype": "text/x-python",
   "name": "python",
   "nbconvert_exporter": "python",
   "pygments_lexer": "ipython3",
   "version": "3.6.1"
  }
 },
 "nbformat": 4,
 "nbformat_minor": 2
}
